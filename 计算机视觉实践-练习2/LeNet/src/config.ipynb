{
 "cells": [
  {
   "cell_type": "code",
   "execution_count": 1,
   "metadata": {},
   "outputs": [],
   "source": [
    "from easydict import EasyDict as edict\n",
    "\n",
    "mnist_cfg = edict({\n",
    "    'num_classes': 10,\n",
    "    'lr': 0.01,\n",
    "    'momentum': 0.9,\n",
    "    'epoch_size': 10,\n",
    "    'batch_size': 32,\n",
    "    'buffer_size': 1000,\n",
    "    'image_height': 32,\n",
    "    'image_width': 32,\n",
    "    'save_checkpoint_steps': 1875,\n",
    "    'keep_checkpoint_max': 10,\n",
    "})\n"
   ]
  }
 ],
 "metadata": {
  "kernelspec": {
   "display_name": "mindspore",
   "language": "python",
   "name": "mindspore"
  },
  "language_info": {
   "codemirror_mode": {
    "name": "ipython",
    "version": 3
   },
   "file_extension": ".py",
   "mimetype": "text/x-python",
   "name": "python",
   "nbconvert_exporter": "python",
   "pygments_lexer": "ipython3",
   "version": "3.7.5"
  }
 },
 "nbformat": 4,
 "nbformat_minor": 2
}
