{
 "cells": [
  {
   "cell_type": "code",
   "execution_count": 1,
   "metadata": {},
   "outputs": [],
   "source": [
    "import os\n",
    "import ast\n",
    "import argparse\n",
    "import mindspore.nn as nn\n",
    "from mindspore import context\n",
    "from mindspore.train.serialization import load_checkpoint, load_param_into_net\n",
    "from mindspore.train import Model\n",
    "from mindspore.nn.metrics import Accuracy\n",
    "from src.dataset import create_dataset\n",
    "from src.config import mnist_cfg as cfg\n",
    "from src.lenet import LeNet5"
   ]
  },
  {
   "cell_type": "code",
   "execution_count": 3,
   "metadata": {},
   "outputs": [
    {
     "name": "stderr",
     "output_type": "stream",
     "text": [
      "[WARNING] ME(21324:20472,MainProcess):2024-05-02-14:00:16.820.922 [mindspore\\dataset\\core\\validator_helpers.py:806] 'Resize' from mindspore.dataset.vision.c_transforms is deprecated from version 1.8 and will be removed in a future version. Use 'Resize' from mindspore.dataset.vision instead.\n",
      "[WARNING] ME(21324:20472,MainProcess):2024-05-02-14:00:16.821.925 [mindspore\\dataset\\core\\validator_helpers.py:806] 'Rescale' from mindspore.dataset.vision.c_transforms is deprecated from version 1.8 and will be removed in a future version. Use 'Rescale' from mindspore.dataset.vision instead.\n",
      "[WARNING] ME(21324:20472,MainProcess):2024-05-02-14:00:16.821.925 [mindspore\\dataset\\core\\validator_helpers.py:806] 'Rescale' from mindspore.dataset.vision.c_transforms is deprecated from version 1.8 and will be removed in a future version. Use 'Rescale' from mindspore.dataset.vision instead.\n",
      "[WARNING] ME(21324:20472,MainProcess):2024-05-02-14:00:16.822.852 [mindspore\\dataset\\core\\validator_helpers.py:806] 'HWC2CHW' from mindspore.dataset.vision.c_transforms is deprecated from version 1.8 and will be removed in a future version. Use 'HWC2CHW' from mindspore.dataset.vision instead.\n",
      "[WARNING] ME(21324:20472,MainProcess):2024-05-02-14:00:16.823.850 [mindspore\\dataset\\core\\validator_helpers.py:806] 'TypeCast' from mindspore.dataset.transforms.c_transforms is deprecated from version 1.8 and will be removed in a future version. Use 'TypeCast' from mindspore.dataset.transforms instead.\n"
     ]
    },
    {
     "name": "stdout",
     "output_type": "stream",
     "text": [
      "============== Starting Testing ==============\n",
      "============== {'Accuracy': 0.9645432692307693} ==============\n"
     ]
    }
   ],
   "source": [
    "if __name__ == \"__main__\":\n",
    "    # set network\n",
    "    context.set_context(mode=context.GRAPH_MODE, device_target='CPU')\n",
    "    network = LeNet5(cfg.num_classes)\n",
    "    net_loss = nn.SoftmaxCrossEntropyWithLogits(sparse=True, reduction=\"mean\")\n",
    "    repeat_size = cfg.epoch_size\n",
    "    net_opt = nn.Momentum(network.trainable_params(), cfg.lr, cfg.momentum)\n",
    "    model = Model(network, net_loss, net_opt, metrics={\"Accuracy\": Accuracy()})\n",
    "\n",
    "    # test\n",
    "    print(\"============== Starting Testing ==============\")\n",
    "    ckpt_file_name = '.\\ckpt\\checkpoint_lenet_1-1_1875.ckpt'\n",
    "    param_dict = load_checkpoint(ckpt_file_name=ckpt_file_name)\n",
    "    load_param_into_net(network, param_dict)\n",
    "    ds_eval = create_dataset(os.path.join('.\\MNIST_DATA', \"test\"),\n",
    "                             cfg.batch_size,\n",
    "                             1)\n",
    "    acc = model.eval(ds_eval, dataset_sink_mode=False)\n",
    "    print(\"============== {} ==============\".format(acc))\n"
   ]
  }
 ],
 "metadata": {
  "kernelspec": {
   "display_name": "mindspore",
   "language": "python",
   "name": "mindspore"
  },
  "language_info": {
   "codemirror_mode": {
    "name": "ipython",
    "version": 3
   },
   "file_extension": ".py",
   "mimetype": "text/x-python",
   "name": "python",
   "nbconvert_exporter": "python",
   "pygments_lexer": "ipython3",
   "version": "3.7.5"
  }
 },
 "nbformat": 4,
 "nbformat_minor": 2
}
