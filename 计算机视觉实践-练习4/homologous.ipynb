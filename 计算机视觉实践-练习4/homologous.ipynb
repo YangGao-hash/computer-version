{
 "cells": [
  {
   "cell_type": "code",
   "execution_count": 3,
   "metadata": {},
   "outputs": [],
   "source": [
    "import cv2\n",
    "import numpy as np\n",
    "import math"
   ]
  },
  {
   "cell_type": "code",
   "execution_count": 4,
   "metadata": {},
   "outputs": [],
   "source": [
    "class ImageHomography:\n",
    "    '''\n",
    "        利用sift特征求两张图片的单应性变换\n",
    "    '''\n",
    "    def __init__(self, root_path):\n",
    "        self.root_path = root_path\n",
    "        self.query_path = root_path + \"left.jpg\"\n",
    "        self.train_path = root_path + 'right.jpg'\n",
    "        self.query_img = cv2.imread(self.query_path, 0)\n",
    "        self.train_img = cv2.imread(self.train_path, 0)\n",
    "        self.sift = cv2.SIFT_create()\n",
    "\n",
    "    def detect_and_compute(self):\n",
    "        '''\n",
    "            检测关键点并计算描述符\n",
    "        '''\n",
    "        self.kp1, self.des1 = self.sift.detectAndCompute(self.query_img, None)\n",
    "        self.kp2, self.des2 = self.sift.detectAndCompute(self.train_img, None)\n",
    "    \n",
    "    def match_features(self):\n",
    "        '''\n",
    "            使用FLANN匹配器进行特征匹配\n",
    "        '''\n",
    "        # 配置FLANN匹配器参数\n",
    "        index_params = dict(algorithm=1, trees=5)\n",
    "        search_params = dict(checks=50)\n",
    "        flann = cv2.FlannBasedMatcher(index_params, search_params)\\\n",
    "        \n",
    "        # 使用k-NN匹配描述符\n",
    "        self.matches = flann.knnMatch(self.des1, self.des2, k=2)\n",
    "\n",
    "        # 使用Lowe's比例测试来筛选匹配\n",
    "        self.good_matches = []\n",
    "        for m, n in self.matches:\n",
    "            if m.distance < 0.75 * n.distance:\n",
    "                self.good_matches.append(m)\n",
    "    \n",
    "    def find_homography(self):\n",
    "        '''\n",
    "            计算图像之间的单应性变换矩阵\n",
    "        '''\n",
    "        if len(self.good_matches) > 4:\n",
    "            # 确保有足够的匹配点来计算单应性矩阵\n",
    "            src_pts = np.float32([self.kp1[m.queryIdx].pt for m in self.good_matches]).reshape(-1, 1, 2)\n",
    "            dst_pts = np.float32([self.kp2[m.trainIdx].pt for m in self.good_matches]).reshape(-1, 1, 2)\n",
    "            \n",
    "            # 使用RANSAC算法计算单应性矩阵\n",
    "            self.H, self.mask = cv2.findHomography(src_pts, dst_pts, cv2.RANSAC, 5.0)\n",
    "\n",
    "    def draw_matches(self):\n",
    "        '''\n",
    "            绘制匹配结果并保存\n",
    "        '''\n",
    "        matchesMask = self.mask.ravel().tolist()\n",
    "        draw_params = dict(matchColor=(0, 255, 0), singlePointColor=None, matchesMask=matchesMask, flags=2)\n",
    "        result_img = cv2.drawMatches(self.query_img, self.kp1, self.train_img, self.kp2, self.good_matches, None, **draw_params)\n",
    "        cv2.imwrite(self.root_path + 'sift_features_matching.jpg', result_img)\n",
    "\n",
    "    def warp_image(self):\n",
    "        \"\"\"\n",
    "            对原始图像进行透视变换并保存结果。\n",
    "        \"\"\"\n",
    "        h, w = self.query_img.shape\n",
    "        im_out = cv2.warpPerspective(cv2.imread(self.train_path), self.H, (w, h))\n",
    "        cv2.imwrite(self.root_path + 'sift_result.jpg', im_out)\n",
    "\n",
    "    def process(self):\n",
    "        \"\"\"\n",
    "            处理图像：检测特征、匹配特征、计算单应性矩阵、绘制匹配结果、进行透视变换。\n",
    "        \"\"\"\n",
    "        self.detect_and_compute()\n",
    "        self.match_features()\n",
    "        self.find_homography()\n",
    "        self.draw_matches()\n",
    "        self.warp_image()\n",
    "        print(f'Processing completed, results saved in {self.root_path}')"
   ]
  },
  {
   "cell_type": "code",
   "execution_count": 5,
   "metadata": {},
   "outputs": [
    {
     "name": "stdout",
     "output_type": "stream",
     "text": [
      "Processing completed, results saved in src_img/\n"
     ]
    }
   ],
   "source": [
    "if __name__ == '__main__':\n",
    "    root_path = \"src_img/\"\n",
    "    image_homography = ImageHomography(root_path)\n",
    "    image_homography.process()"
   ]
  }
 ],
 "metadata": {
  "kernelspec": {
   "display_name": "mindspore",
   "language": "python",
   "name": "mindspore"
  },
  "language_info": {
   "codemirror_mode": {
    "name": "ipython",
    "version": 3
   },
   "file_extension": ".py",
   "mimetype": "text/x-python",
   "name": "python",
   "nbconvert_exporter": "python",
   "pygments_lexer": "ipython3",
   "version": "3.7.5"
  }
 },
 "nbformat": 4,
 "nbformat_minor": 2
}
