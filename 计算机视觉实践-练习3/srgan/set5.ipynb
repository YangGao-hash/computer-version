{
 "cells": [
  {
   "cell_type": "code",
   "execution_count": 27,
   "metadata": {},
   "outputs": [],
   "source": [
    "import os\n",
    "import cv2\n",
    "import numpy as np\n",
    "from PIL import Image\n",
    "from mindspore.train.serialization import load_checkpoint, load_param_into_net\n",
    "from mindspore.common import set_seed\n",
    "from mindspore import context\n",
    "import mindspore.ops as ops\n",
    "from src.model.generator import Generator\n",
    "from src.dataset.create_loader import create_test_dataloader\n",
    "import time\n",
    "from skimage.metrics import peak_signal_noise_ratio, structural_similarity"
   ]
  },
  {
   "cell_type": "code",
   "execution_count": 28,
   "metadata": {},
   "outputs": [],
   "source": [
    "def bicubic(path):\n",
    "    '''\n",
    "        use bicubic to downsample img\n",
    "        @param path : raw set5\n",
    "    '''\n",
    "    print(\"======downsample img\")\n",
    "    # set5 data\n",
    "    set5 = [os.path.join(path, x) for x in sorted(os.listdir(path))]\n",
    "    for imgPath in set5:\n",
    "        img = cv2.imread(imgPath)\n",
    "        # target size\n",
    "        traget_size = (int(np.shape(img)[1] / 4), int(np.shape(img)[0] / 4))\n",
    "        # apply bicubic\n",
    "        bicubic_img = cv2.resize(img, traget_size, interpolation=cv2.INTER_CUBIC)\n",
    "        # downsample\n",
    "        #downsample_img = cv2.resize(bicubic_img, (img.shape[1], img.shape[0]), interpolation=cv2.INTER_AREA)\n",
    "        # save\n",
    "        cv2.imwrite('bicubic/' + imgPath.split('\\\\')[-1], bicubic_img)\n",
    "    \n",
    "    print(\"img saved in 'bicubic' \")"
   ]
  },
  {
   "cell_type": "code",
   "execution_count": 29,
   "metadata": {},
   "outputs": [],
   "source": [
    "def infer(path):\n",
    "    '''\n",
    "        get hr img\n",
    "        @param path : downsample set5 \n",
    "    '''\n",
    "    print('======get hr')\n",
    "    # random seed\n",
    "    set_seed(1)\n",
    "    # 图模式\n",
    "    context.set_context(mode=context.GRAPH_MODE, device_id=0, save_graphs=False)\n",
    "    # dataloader\n",
    "    test_ds = create_test_dataloader(1, path, inference=True)\n",
    "    data_size = test_ds.get_dataset_size()\n",
    "    test_data_loader = test_ds.create_dict_iterator()\n",
    "    # generator\n",
    "    generator = Generator(4)\n",
    "    params = load_checkpoint('ckpt/G_model_1000.ckpt')\n",
    "    print(\"======load checkpoint\")\n",
    "    load_param_into_net(generator, params)\n",
    "    op = ops.ReduceSum(keep_dims=False)\n",
    "    print(\"=======starting test=====\")\n",
    "    time_total = 0\n",
    "    i = 0\n",
    "    # infer\n",
    "    for data in test_data_loader:\n",
    "        time_begin = time.time()\n",
    "        lr = data['LR']\n",
    "        output = generator(lr)\n",
    "        time_total += time.time() - time_begin\n",
    "        output = op(output, 0).asnumpy()\n",
    "        output = np.clip(output, -1.0, 1.0)\n",
    "        output = ((output + 1.0) / 2.0).transpose(1, 2, 0)\n",
    "        result = Image.fromarray((output * 255.0).astype(np.uint8))\n",
    "        # save the output image\n",
    "        result.save(f\"set5_hr/{i}.jpg\")\n",
    "        i += 1\n",
    "    print(\"Total %d images need %.0fms, per image needs %.0fms.\" % (data_size, time_total * 1000, \\\n",
    "        (time_total / data_size) * 1000))\n",
    "    print(\"Images saved in 'set5_hr'\")\n",
    "    print(\"Inference End.\")\n"
   ]
  },
  {
   "cell_type": "code",
   "execution_count": 30,
   "metadata": {},
   "outputs": [],
   "source": [
    "def calculatePsnrAndSsim(lr_path, hr_path):\n",
    "    '''\n",
    "        calculate psnr and ssim\n",
    "        @param lr_path: raw set5\n",
    "        @param hr_path: hr set5\n",
    "    '''\n",
    "    print('calculating avg psnr and avg ssim')\n",
    "    \n",
    "    # file path\n",
    "    lr = [os.path.join(lr_path, x) for x in sorted(os.listdir(lr_path))]\n",
    "    hr = [os.path.join(hr_path, x) for x in sorted(os.listdir(hr_path))]\n",
    "    psnr_all, ssim_all = 0, 0\n",
    "\n",
    "    # calculate \n",
    "    for i in range(len(lr)):\n",
    "        lr_img = cv2.imread(lr[i])\n",
    "        hr_img = cv2.imread(hr[i])\n",
    "        # calculate psnr\n",
    "        psnr = peak_signal_noise_ratio(lr_img, hr_img, data_range=255)\n",
    "        psnr_all += psnr\n",
    "        # calculate ssim\n",
    "        ssim = structural_similarity(lr_img, hr_img, data_range=255, multichannel=True, channel_axis=2)\n",
    "        ssim_all += ssim\n",
    "    \n",
    "    print(f'avg psnr: {psnr_all/len(lr):.2f}')\n",
    "    print(f'avg ssim: {ssim_all/len(lr):.2f}')\n"
   ]
  },
  {
   "cell_type": "code",
   "execution_count": 31,
   "metadata": {},
   "outputs": [
    {
     "name": "stdout",
     "output_type": "stream",
     "text": [
      "======downsample img\n",
      "img saved in 'bicubic' \n",
      "======get hr\n"
     ]
    },
    {
     "name": "stderr",
     "output_type": "stream",
     "text": [
      "[WARNING] ME(9712:7368,MainProcess):2024-05-09-16:14:30.335.904 [mindspore\\train\\serialization.py:1110] For 'load_param_into_net', remove parameter prefix name: generator., continue to load.\n"
     ]
    },
    {
     "name": "stdout",
     "output_type": "stream",
     "text": [
      "======load checkpoint\n",
      "=======starting test=====\n",
      "Total 5 images need 5280ms, per image needs 1056ms.\n",
      "Images saved in 'set5_hr'\n",
      "Inference End.\n",
      "calculating avg psnr and avg ssim\n"
     ]
    },
    {
     "name": "stderr",
     "output_type": "stream",
     "text": [
      "d:\\Programfiles\\anaconda3\\envs\\mindspore\\lib\\site-packages\\ipykernel_launcher.py:22: FutureWarning: `multichannel` is a deprecated argument name for `structural_similarity`. It will be removed in version 1.0. Please use `channel_axis` instead.\n"
     ]
    },
    {
     "name": "stdout",
     "output_type": "stream",
     "text": [
      "avg psnr: 22.78\n",
      "avg ssim: 0.68\n"
     ]
    }
   ],
   "source": [
    "if __name__=='__main__':\n",
    "    lr_path = 'set5_lr'\n",
    "    hr_path = 'set5_hr'\n",
    "    bicubic_path = 'bicubic'\n",
    "\n",
    "    # downsample img    \n",
    "    bicubic(lr_path)\n",
    "\n",
    "    # infer \n",
    "    infer(bicubic_path)\n",
    "\n",
    "    # calculate psnr and ssim\n",
    "    calculatePsnrAndSsim(lr_path, hr_path)\n",
    "\n"
   ]
  }
 ],
 "metadata": {
  "kernelspec": {
   "display_name": "mindspore",
   "language": "python",
   "name": "mindspore"
  },
  "language_info": {
   "codemirror_mode": {
    "name": "ipython",
    "version": 3
   },
   "file_extension": ".py",
   "mimetype": "text/x-python",
   "name": "python",
   "nbconvert_exporter": "python",
   "pygments_lexer": "ipython3",
   "version": "3.7.5"
  }
 },
 "nbformat": 4,
 "nbformat_minor": 2
}
